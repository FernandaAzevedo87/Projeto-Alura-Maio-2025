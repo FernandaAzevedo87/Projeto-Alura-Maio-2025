{
  "nbformat": 4,
  "nbformat_minor": 0,
  "metadata": {
    "colab": {
      "provenance": []
    },
    "kernelspec": {
      "name": "python3",
      "display_name": "Python 3"
    },
    "language_info": {
      "name": "python"
    }
  },
  "cells": [
    {
      "cell_type": "code",
      "execution_count": 7,
      "metadata": {
        "colab": {
          "base_uri": "https://localhost:8080/"
        },
        "id": "TX-oTGGcyHDp",
        "outputId": "08992124-8c0c-4da3-85a1-3b0f0a811f59"
      },
      "outputs": [
        {
          "output_type": "stream",
          "name": "stdout",
          "text": [
            "\u001b[?25l   \u001b[90m━━━━━━━━━━━━━━━━━━━━━━━━━━━━━━━━━━━━━━━━\u001b[0m \u001b[32m0.0/1.2 MB\u001b[0m \u001b[31m?\u001b[0m eta \u001b[36m-:--:--\u001b[0m\r\u001b[2K   \u001b[91m━━━━━━━━━━━━━━━━\u001b[0m\u001b[91m╸\u001b[0m\u001b[90m━━━━━━━━━━━━━━━━━━━━━━━\u001b[0m \u001b[32m0.5/1.2 MB\u001b[0m \u001b[31m17.3 MB/s\u001b[0m eta \u001b[36m0:00:01\u001b[0m\r\u001b[2K   \u001b[91m━━━━━━━━━━━━━━━━━━━━━━━━━━━━━━━━━━━━━━━\u001b[0m\u001b[91m╸\u001b[0m \u001b[32m1.2/1.2 MB\u001b[0m \u001b[31m23.7 MB/s\u001b[0m eta \u001b[36m0:00:01\u001b[0m\r\u001b[2K   \u001b[90m━━━━━━━━━━━━━━━━━━━━━━━━━━━━━━━━━━━━━━━━\u001b[0m \u001b[32m1.2/1.2 MB\u001b[0m \u001b[31m13.7 MB/s\u001b[0m eta \u001b[36m0:00:00\u001b[0m\n",
            "\u001b[2K   \u001b[90m━━━━━━━━━━━━━━━━━━━━━━━━━━━━━━━━━━━━━━━━\u001b[0m \u001b[32m232.1/232.1 kB\u001b[0m \u001b[31m7.3 MB/s\u001b[0m eta \u001b[36m0:00:00\u001b[0m\n",
            "\u001b[2K   \u001b[90m━━━━━━━━━━━━━━━━━━━━━━━━━━━━━━━━━━━━━━━━\u001b[0m \u001b[32m95.2/95.2 kB\u001b[0m \u001b[31m2.9 MB/s\u001b[0m eta \u001b[36m0:00:00\u001b[0m\n",
            "\u001b[2K   \u001b[90m━━━━━━━━━━━━━━━━━━━━━━━━━━━━━━━━━━━━━━━━\u001b[0m \u001b[32m217.1/217.1 kB\u001b[0m \u001b[31m7.5 MB/s\u001b[0m eta \u001b[36m0:00:00\u001b[0m\n",
            "\u001b[2K   \u001b[90m━━━━━━━━━━━━━━━━━━━━━━━━━━━━━━━━━━━━━━━━\u001b[0m \u001b[32m334.1/334.1 kB\u001b[0m \u001b[31m8.2 MB/s\u001b[0m eta \u001b[36m0:00:00\u001b[0m\n",
            "\u001b[2K   \u001b[90m━━━━━━━━━━━━━━━━━━━━━━━━━━━━━━━━━━━━━━━━\u001b[0m \u001b[32m125.1/125.1 kB\u001b[0m \u001b[31m2.9 MB/s\u001b[0m eta \u001b[36m0:00:00\u001b[0m\n",
            "\u001b[2K   \u001b[90m━━━━━━━━━━━━━━━━━━━━━━━━━━━━━━━━━━━━━━━━\u001b[0m \u001b[32m65.8/65.8 kB\u001b[0m \u001b[31m1.2 MB/s\u001b[0m eta \u001b[36m0:00:00\u001b[0m\n",
            "\u001b[2K   \u001b[90m━━━━━━━━━━━━━━━━━━━━━━━━━━━━━━━━━━━━━━━━\u001b[0m \u001b[32m119.0/119.0 kB\u001b[0m \u001b[31m3.6 MB/s\u001b[0m eta \u001b[36m0:00:00\u001b[0m\n",
            "\u001b[2K   \u001b[90m━━━━━━━━━━━━━━━━━━━━━━━━━━━━━━━━━━━━━━━━\u001b[0m \u001b[32m194.9/194.9 kB\u001b[0m \u001b[31m6.1 MB/s\u001b[0m eta \u001b[36m0:00:00\u001b[0m\n",
            "\u001b[2K   \u001b[90m━━━━━━━━━━━━━━━━━━━━━━━━━━━━━━━━━━━━━━━━\u001b[0m \u001b[32m62.5/62.5 kB\u001b[0m \u001b[31m1.4 MB/s\u001b[0m eta \u001b[36m0:00:00\u001b[0m\n",
            "\u001b[2K   \u001b[90m━━━━━━━━━━━━━━━━━━━━━━━━━━━━━━━━━━━━━━━━\u001b[0m \u001b[32m103.3/103.3 kB\u001b[0m \u001b[31m2.2 MB/s\u001b[0m eta \u001b[36m0:00:00\u001b[0m\n",
            "\u001b[2K   \u001b[90m━━━━━━━━━━━━━━━━━━━━━━━━━━━━━━━━━━━━━━━━\u001b[0m \u001b[32m44.4/44.4 kB\u001b[0m \u001b[31m1.2 MB/s\u001b[0m eta \u001b[36m0:00:00\u001b[0m\n",
            "\u001b[2K   \u001b[90m━━━━━━━━━━━━━━━━━━━━━━━━━━━━━━━━━━━━━━━━\u001b[0m \u001b[32m72.0/72.0 kB\u001b[0m \u001b[31m2.3 MB/s\u001b[0m eta \u001b[36m0:00:00\u001b[0m\n",
            "\u001b[?25h"
          ]
        }
      ],
      "source": [
        "%pip -q install google-adk"
      ]
    },
    {
      "cell_type": "code",
      "source": [
        "import os\n",
        "from google.colab import userdata\n",
        "from google.adk.agents import Agent\n",
        "from google.adk.runners import Runner\n",
        "from google.adk.sessions import InMemorySessionService\n",
        "from google.adk.tools import google_search\n",
        "from google.genai import types\n",
        "import textwrap\n",
        "from IPython.display import display, Markdown\n",
        "import warnings\n",
        "\n",
        "warnings.filterwarnings(\"ignore\")"
      ],
      "metadata": {
        "id": "_J6H1Yjw0aQE"
      },
      "execution_count": 8,
      "outputs": []
    },
    {
      "cell_type": "code",
      "source": [
        "# Configura a API Key do Google Gemini\n",
        "os.environ[\"GOOGLE_API_KEY\"] = userdata.get('GOOGLE_API_KEY')\n"
      ],
      "metadata": {
        "id": "m3xLLD_i0tVD"
      },
      "execution_count": 9,
      "outputs": []
    },
    {
      "cell_type": "code",
      "source": [
        "# Função auxiliar para enviar mensagem ao agente e obter resposta\n",
        "def call_agent(agent: Agent, message_text: str) -> str:\n",
        "    session_service = InMemorySessionService()\n",
        "    session = session_service.create_session(app_name=agent.name, user_id=\"user1\", session_id=\"session1\")\n",
        "    runner = Runner(agent=agent, app_name=agent.name, session_service=session_service)\n",
        "    content = types.Content(role=\"user\", parts=[types.Part(text=message_text)])\n",
        "    final_response = \"\"\n",
        "    for event in runner.run(user_id=\"user1\", session_id=\"session1\", new_message=content):\n",
        "        if event.is_final_response():\n",
        "            for part in event.content.parts:\n",
        "                if part.text is not None:\n",
        "                    final_response += part.text\n",
        "                    final_response += \"\\n\"\n",
        "    return final_response"
      ],
      "metadata": {
        "id": "8fMnKyiU06k6"
      },
      "execution_count": 10,
      "outputs": []
    },
    {
      "cell_type": "code",
      "source": [
        "# Função auxiliar para exibir texto formatado em Markdown\n",
        "def to_markdown(text):\n",
        "    text = text.replace('•', '  *')\n",
        "    return Markdown(textwrap.indent(text, '> ', predicate=lambda _: True))"
      ],
      "metadata": {
        "id": "AQhIEXpa1jaa"
      },
      "execution_count": 11,
      "outputs": []
    },
    {
      "cell_type": "code",
      "source": [
        "##################################################################\n",
        "# --- Agente 1: Buscador de Locais Confiáveis de Peças --- #\n",
        "##################################################################\n",
        "def agente_buscador_locais(tipo_item, marcas_modelos_interesse):\n",
        "    buscador_locais = Agent(\n",
        "        name='agente_buscador_locais',\n",
        "        model='gemini-2.0-flash',\n",
        "        description='Agente que busca online por locais confiáveis para comprar peças de carro e moto.',\n",
        "        tools=[google_search],\n",
        "        instruction=f'''\n",
        "        Você é um especialista em encontrar fornecedores confiáveis de peças de carro e moto online.\n",
        "        Sua tarefa é usar a ferramenta de busca do Google (google_search) para identificar locais online\n",
        "        (como sites de ferro velhos especializados, desmanches certificados, lojas online com boa reputação,\n",
        "        fóruns de proprietários com recomendações, etc.) que vendem {tipo_item} das seguintes marcas e modelos:\n",
        "        {marcas_modelos_interesse}.\n",
        "\n",
        "        Ao buscar, priorize locais que demonstrem confiabilidade através de:\n",
        "        - Avaliações positivas de clientes.\n",
        "        - Certificações ou selos de qualidade.\n",
        "        - Políticas de devolução claras e justas.\n",
        "        - Transparência nas informações dos produtos.\n",
        "        - Reputação em comunidades online.\n",
        "\n",
        "        Liste no máximo 5 locais promissores, fornecendo o nome do local (se aplicável) e a URL do site ou página de contato.\n",
        "        Para cada local listado, inclua um breve resumo de por que ele parece ser um local confiável.\n",
        "        '''\n",
        "    )\n",
        "    entrada_buscador_locais = f'Tipo de item: {tipo_item}\\nMarcas e modelos de interesse: {marcas_modelos_interesse}'\n",
        "    locais_encontrados = call_agent(buscador_locais, entrada_buscador_locais)\n",
        "    return locais_encontrados"
      ],
      "metadata": {
        "id": "0c2UW7WU1uDU"
      },
      "execution_count": 22,
      "outputs": []
    },
    {
      "cell_type": "code",
      "source": [
        "######################################################################\n",
        "# --- Agente 2: Avaliador de Confiabilidade de Fornecedores --- #\n",
        "######################################################################\n",
        "def agente_avaliador_confiabilidade(lista_de_locais):\n",
        "    avaliador_confiabilidade = Agent(\n",
        "        name='agente_avaliador_confiabilidade',\n",
        "        model='gemini-2.0-flash',\n",
        "        description='Agente que avalia a confiabilidade de locais encontrados para compra de peças.',\n",
        "        tools=[google_search],\n",
        "        instruction='''\n",
        "        Você é um investigador especializado em avaliar a confiabilidade de fornecedores online de peças de carro e moto.\n",
        "        Com base na lista de locais fornecida, sua tarefa é usar a ferramenta de busca do Google (google_search)\n",
        "        para investigar a reputação e confiabilidade de cada um deles.\n",
        "\n",
        "        Para cada local, procure por:\n",
        "        - Avaliações de clientes em diferentes plataformas (Google Reviews, redes sociais, sites de avaliação).\n",
        "        - Menciona em fóruns ou comunidades de proprietários de veículos.\n",
        "        - Artigos de notícias ou reportagens sobre o local.\n",
        "        - Políticas de devolução e garantia.\n",
        "        - Informações de contato claras e acessíveis.\n",
        "        - Presença e engajamento em redes sociais.\n",
        "\n",
        "        Para cada local avaliado, forneça um resumo da sua avaliação de confiabilidade (alta, média, baixa)\n",
        "        e os principais pontos que justificam essa avaliação.\n",
        "        '''\n",
        "    )\n",
        "    entrada_avaliador = f'Lista de locais a avaliar: {lista_de_locais}'\n",
        "    avaliacao_fornecedores = call_agent(avaliador_confiabilidade, entrada_avaliador)\n",
        "    return avaliacao_fornecedores"
      ],
      "metadata": {
        "id": "UT_YZqle2rvW"
      },
      "execution_count": 23,
      "outputs": []
    },
    {
      "cell_type": "code",
      "source": [
        "#########################################################################\n",
        "# --- Agente 3 (Opcional): Agente de Contato Inicial (Formulando Perguntas) --- #\n",
        "#########################################################################\n",
        "def agente_contato_inicial(local, item_interesse, perguntas_extras=None):\n",
        "    agente_contato = Agent(\n",
        "        name='agente_contato_inicial',\n",
        "        model='gemini-2.0-flash',\n",
        "        description='Agente que formula e envia um contato inicial com um fornecedor para obter mais informações.',\n",
        "        instruction=f'''\n",
        "        Você é um assistente de compras especializado em adquirir peças de carro e moto para um ferro velho.\n",
        "        Com base no nome e possível descrição do local fornecido e no item de interesse \"{item_interesse}\",\n",
        "        sua tarefa é formular até três perguntas relevantes para obter informações essenciais antes de prosseguir com uma possível compra.\n",
        "        Priorize as seguintes perguntas se fornecidas: {perguntas_extras if perguntas_extras else 'Nenhuma pergunta extra fornecida.'}.\n",
        "\n",
        "        As perguntas devem abordar aspectos como:\n",
        "        - Disponibilidade da peça específica.\n",
        "        - Condição da peça (nova, usada, recondicionada).\n",
        "        - Preço da peça.\n",
        "        - Política de garantia ou devolução.\n",
        "        - Opções de envio e custos (se aplicável, considerando que estamos em Nova Friburgo, RJ).\n",
        "        - Outras informações relevantes para a compra.\n",
        "\n",
        "         Após formular as perguntas, crie uma breve mensagem de contato (como um e-mail ou mensagem de formulário de contato)\n",
        "        endereçada ao \"[Nome do Local]\" (se disponível na informação do local, caso contrário, use um genérico como \"Prezado(s)\"),\n",
        "        apresentando o interesse na peça \"{item_interesse}\" e listando as perguntas formuladas de forma clara e profissional.\n",
        "        ''' # Instrução atualizada para incluir perguntas_extras\n",
        "    )\n",
        "\n",
        "\n",
        "\n",
        "    entrada_contato = f'Local: {local}\\nItem de interesse: {item_interesse}'\n",
        "    mensagem_contato = call_agent(agente_contato, entrada_contato)\n",
        "    return mensagem_contato"
      ],
      "metadata": {
        "id": "5xav-v3n44gw"
      },
      "execution_count": 29,
      "outputs": []
    },
    {
      "cell_type": "code",
      "source": [
        "# --- Execução do Sistema ---\n",
        "print(\"🤖 Iniciando o Sistema de Monitoramento de Locais Confiáveis 🤖\")\n",
        "\n",
        "tipo_item_busca = input(\"❓ Que tipo de peça você está procurando (ex: motores, transmissões, peças de moto em geral)? \")\n",
        "marcas_modelos = input(\"❓ Quais marcas e modelos de veículos/peças te interessam (ex: VW Gol, Honda CG 150)? \")\n",
        "\n",
        "if not tipo_item_busca or not marcas_modelos:\n",
        "    print(\"Por favor, forneça o tipo de item e as marcas/modelos de interesse.\")\n",
        "else:\n",
        "    print(f\"\\n🔍 Buscando locais confiáveis para '{tipo_item_busca}' das marcas/modelos '{marcas_modelos}'...\")\n",
        "    locais_encontrados = agente_buscador_locais(tipo_item_busca, marcas_modelos)\n",
        "    print(\"\\n--- Locais Encontrados (Agente Buscador) ---\")\n",
        "    display(to_markdown(locais_encontrados))\n",
        "    print(\"--------------------------------------------------\")\n",
        "\n",
        "    print(\"\\n🧐 Avaliando a confiabilidade dos locais encontrados...\")\n",
        "    avaliacao_confiabilidade = agente_avaliador_confiabilidade(locais_encontrados)\n",
        "    print(\"\\n--- Avaliação de Confiabilidade (Agente Avaliador) ---\")\n",
        "    display(to_markdown(avaliacao_confiabilidade))\n",
        "    print(\"------------------------------------------------------\")\n",
        "\n",
        "    # Exemplo de como usar o agente de contato (opcional)\n",
        "    if \"http\" in locais_encontrados: # Simples verificação se URLs foram encontradas\n",
        "         primeiro_local = locais_encontrados.split('\\n')[0] # Pega a primeira linha como exemplo\n",
        "         nome_do_local = primeiro_local.split(': ')[0] if ': ' in primeiro_local else \"Fornecedor\" # Tenta extrair o nome do local\n",
        "         print(f\"\\n📧 Simulação de contato inicial com o local: {nome_do_local}...\")\n",
        "         mensagem_inicial = agente_contato_inicial(nome_do_local, tipo_item_busca) # Não passamos as perguntas aqui\n",
        "         print(\"\\n--- Mensagem de Contato Inicial (Agente de Contato) ---\")\n",
        "         display(to_markdown(mensagem_inicial))\n",
        "         print(\"---------------------------------------------------------\")\n",
        "\n",
        "print(\"\\n🏁 Sistema de Monitoramento de Locais Confiáveis Concluído. 🏁\")"
      ],
      "metadata": {
        "id": "7ipGfi-PGeSb"
      },
      "execution_count": null,
      "outputs": []
    }
  ]
}